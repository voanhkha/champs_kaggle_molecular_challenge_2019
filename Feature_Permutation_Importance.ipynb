{
 "cells": [
  {
   "cell_type": "code",
   "execution_count": 5,
   "metadata": {},
   "outputs": [
    {
     "name": "stdout",
     "output_type": "stream",
     "text": [
      "XGB version: 0.81\n"
     ]
    }
   ],
   "source": [
    "import numpy as np\n",
    "import pandas as pd\n",
    "import os\n",
    "import time\n",
    "import datetime\n",
    "import gc\n",
    "\n",
    "from sklearn.preprocessing import LabelEncoder\n",
    "from sklearn.model_selection import GroupKFold, train_test_split, KFold\n",
    "from sklearn.metrics import mean_absolute_error as mae\n",
    "\n",
    "import matplotlib.pyplot as plt\n",
    "import seaborn as sns\n",
    "from tqdm import tqdm_notebook as tqdm\n",
    "\n",
    "from catboost import CatBoostRegressor, Pool\n",
    "import lightgbm as lgb\n",
    "import catboost\n",
    "import xgboost as xgb\n",
    "print('XGB version:', xgb.__version__)\n",
    "\n",
    "import warnings\n",
    "warnings.filterwarnings(\"ignore\")"
   ]
  },
  {
   "cell_type": "code",
   "execution_count": null,
   "metadata": {},
   "outputs": [],
   "source": []
  },
  {
   "cell_type": "code",
   "execution_count": 21,
   "metadata": {},
   "outputs": [],
   "source": [
    "def huber_approx_obj(preds, dtrain):\n",
    "    d = preds - dtrain#.get_labels() #remove .get_labels() for sklearn\n",
    "    h = 1  #h is delta in the graphic\n",
    "    scale = 1 + (d / h) ** 2\n",
    "    scale_sqrt = np.sqrt(scale)\n",
    "    grad = d / scale_sqrt\n",
    "    hess = 1 / scale / scale_sqrt\n",
    "    return grad, hess\n",
    "\n",
    "def LMAE_XGB(preds, dtrain):\n",
    "    labels = dtrain.get_label()\n",
    "    return 'LMAE_XGB', np.log(mae(preds, labels))\n",
    "\n",
    "def LMAE_LGB(preds, labels):\n",
    "    return 'LMAE_LGB', np.log(mae(preds, labels)), False\n",
    "\n",
    "def LMAE(preds, labels):\n",
    "    return np.log(mae(preds, labels))\n",
    "\n",
    "def permutation_importance(model, X_val, y_val):\n",
    "    results = pd.DataFrame(columns=['feature', 'permute_score'])\n",
    "    y_pred = model.predict(X_val)\n",
    "    base_score = LMAE(y_val, y_pred)\n",
    "    print('Base score:', base_score)\n",
    "\n",
    "    for j, col in enumerate(tqdm(X_val.columns.values)):\n",
    "        freezed_col = X_val[col].copy()\n",
    "        X_val[col] = np.random.permutation(X_val[col])\n",
    "        preds = model.predict(X_val)\n",
    "        score = LMAE(y_val, preds) - base_score\n",
    "        \n",
    "        X_val[col] = freezed_col\n",
    "        results = results.append({'feature' : col , 'permute_score' : score} , ignore_index=True)\n",
    "\n",
    "    return results\n",
    "\n",
    "\n",
    "def permutation_importance_XGB(model, X_val, y_val, col_names):\n",
    "    results = pd.DataFrame(columns=['feature', 'permute_score'])\n",
    "    y_pred = model.predict(X_val)\n",
    "    base_score = LMAE(y_val, y_pred)\n",
    "    print('Base score:', base_score)\n",
    "\n",
    "    for j, col in enumerate(tqdm(col_names)):\n",
    "        freezed_col = X_val[:,j].copy()\n",
    "        X_val[:,j] = np.random.permutation(X_val[:,j])\n",
    "        preds = model.predict(X_val)\n",
    "        score = LMAE(y_val, preds) - base_score\n",
    "        \n",
    "        X_val[:,j] = freezed_col\n",
    "        results = results.append({'feature' : col , 'permute_score' : score} , ignore_index=True)\n",
    "\n",
    "    return results"
   ]
  },
  {
   "cell_type": "markdown",
   "metadata": {},
   "source": [
    "### FEATURE PERMUTATION"
   ]
  },
  {
   "cell_type": "code",
   "execution_count": 22,
   "metadata": {},
   "outputs": [
    {
     "name": "stdout",
     "output_type": "stream",
     "text": [
      "SELECTION FOR TYPE 2 ................\n",
      "Loading josh ...\n",
      "Loading kyle ...\n",
      "Loading M101 ...\n",
      "Loading M113 ...\n",
      "Loading kyleB ...\n",
      "Loading fc_oof_seed222 ...\n",
      "Drop Duplicates...\n",
      "Fill na...\n",
      "Get useful features...\n",
      "Label encoding...\n"
     ]
    },
    {
     "data": {
      "application/vnd.jupyter.widget-view+json": {
       "model_id": "174cb2ec2ff442a9813f349f5d37dd39",
       "version_major": 2,
       "version_minor": 0
      },
      "text/plain": [
       "HBox(children=(IntProgress(value=0, max=170), HTML(value='')))"
      ]
     },
     "metadata": {},
     "output_type": "display_data"
    },
    {
     "name": "stdout",
     "output_type": "stream",
     "text": [
      "(43363, 603)\n",
      "\n",
      " Train fold 0 ......\n",
      "[0]\tvalidation_0-rmse:9.85524\tvalidation_0-LMAE_XGB:2.17214\n",
      "Multiple eval metrics have been passed: 'validation_0-LMAE_XGB' will be used for early stopping.\n",
      "\n",
      "Will train until validation_0-LMAE_XGB hasn't improved in 30 rounds.\n",
      "[10]\tvalidation_0-rmse:3.50834\tvalidation_0-LMAE_XGB:1.1263\n",
      "[20]\tvalidation_0-rmse:1.31601\tvalidation_0-LMAE_XGB:0.097851\n",
      "[30]\tvalidation_0-rmse:0.639616\tvalidation_0-LMAE_XGB:-0.781478\n",
      "[40]\tvalidation_0-rmse:0.484014\tvalidation_0-LMAE_XGB:-1.21801\n",
      "[50]\tvalidation_0-rmse:0.457976\tvalidation_0-LMAE_XGB:-1.30443\n",
      "[60]\tvalidation_0-rmse:0.451496\tvalidation_0-LMAE_XGB:-1.31497\n",
      "[70]\tvalidation_0-rmse:0.448904\tvalidation_0-LMAE_XGB:-1.31388\n",
      "[80]\tvalidation_0-rmse:0.4462\tvalidation_0-LMAE_XGB:-1.31537\n",
      "[90]\tvalidation_0-rmse:0.443835\tvalidation_0-LMAE_XGB:-1.31444\n",
      "[100]\tvalidation_0-rmse:0.442094\tvalidation_0-LMAE_XGB:-1.31347\n",
      "Stopping. Best iteration:\n",
      "[78]\tvalidation_0-rmse:0.446762\tvalidation_0-LMAE_XGB:-1.31558\n",
      "\n",
      "Base score: -1.315581181675577\n"
     ]
    },
    {
     "data": {
      "application/vnd.jupyter.widget-view+json": {
       "model_id": "82a7367403584bf1bcf8b62b55a2e4ea",
       "version_major": 2,
       "version_minor": 0
      },
      "text/plain": [
       "HBox(children=(IntProgress(value=0, max=603), HTML(value='')))"
      ]
     },
     "metadata": {},
     "output_type": "display_data"
    },
    {
     "name": "stdout",
     "output_type": "stream",
     "text": [
      "\n",
      " Train fold 1 ......\n",
      "[0]\tvalidation_0-rmse:9.8754\tvalidation_0-LMAE_XGB:2.17471\n",
      "Multiple eval metrics have been passed: 'validation_0-LMAE_XGB' will be used for early stopping.\n",
      "\n",
      "Will train until validation_0-LMAE_XGB hasn't improved in 30 rounds.\n",
      "[10]\tvalidation_0-rmse:3.5392\tvalidation_0-LMAE_XGB:1.13652\n",
      "[20]\tvalidation_0-rmse:1.3567\tvalidation_0-LMAE_XGB:0.121657\n",
      "[30]\tvalidation_0-rmse:0.685853\tvalidation_0-LMAE_XGB:-0.750557\n",
      "[40]\tvalidation_0-rmse:0.525456\tvalidation_0-LMAE_XGB:-1.1958\n",
      "[50]\tvalidation_0-rmse:0.492305\tvalidation_0-LMAE_XGB:-1.29787\n",
      "[60]\tvalidation_0-rmse:0.480825\tvalidation_0-LMAE_XGB:-1.3165\n",
      "[70]\tvalidation_0-rmse:0.475962\tvalidation_0-LMAE_XGB:-1.3211\n",
      "[80]\tvalidation_0-rmse:0.474297\tvalidation_0-LMAE_XGB:-1.32037\n",
      "[90]\tvalidation_0-rmse:0.473731\tvalidation_0-LMAE_XGB:-1.31862\n",
      "[100]\tvalidation_0-rmse:0.47289\tvalidation_0-LMAE_XGB:-1.3185\n",
      "Stopping. Best iteration:\n",
      "[76]\tvalidation_0-rmse:0.474741\tvalidation_0-LMAE_XGB:-1.32129\n",
      "\n",
      "Base score: -1.321292403116159\n"
     ]
    },
    {
     "data": {
      "application/vnd.jupyter.widget-view+json": {
       "model_id": "4b7323b96e96444d9f82c8c94af47f30",
       "version_major": 2,
       "version_minor": 0
      },
      "text/plain": [
       "HBox(children=(IntProgress(value=0, max=603), HTML(value='')))"
      ]
     },
     "metadata": {},
     "output_type": "display_data"
    },
    {
     "name": "stdout",
     "output_type": "stream",
     "text": [
      "\n",
      " Train fold 2 ......\n",
      "[0]\tvalidation_0-rmse:9.7981\tvalidation_0-LMAE_XGB:2.16552\n",
      "Multiple eval metrics have been passed: 'validation_0-LMAE_XGB' will be used for early stopping.\n",
      "\n",
      "Will train until validation_0-LMAE_XGB hasn't improved in 30 rounds.\n",
      "[10]\tvalidation_0-rmse:3.48147\tvalidation_0-LMAE_XGB:1.12074\n",
      "[20]\tvalidation_0-rmse:1.30665\tvalidation_0-LMAE_XGB:0.097201\n",
      "[30]\tvalidation_0-rmse:0.629225\tvalidation_0-LMAE_XGB:-0.796167\n",
      "[40]\tvalidation_0-rmse:0.471489\tvalidation_0-LMAE_XGB:-1.25383\n",
      "[50]\tvalidation_0-rmse:0.441758\tvalidation_0-LMAE_XGB:-1.34097\n",
      "[60]\tvalidation_0-rmse:0.435336\tvalidation_0-LMAE_XGB:-1.34679\n",
      "[70]\tvalidation_0-rmse:0.433053\tvalidation_0-LMAE_XGB:-1.34508\n",
      "[80]\tvalidation_0-rmse:0.431928\tvalidation_0-LMAE_XGB:-1.34497\n",
      "Stopping. Best iteration:\n",
      "[57]\tvalidation_0-rmse:0.436084\tvalidation_0-LMAE_XGB:-1.3474\n",
      "\n",
      "Base score: -1.3474037696099086\n"
     ]
    },
    {
     "data": {
      "application/vnd.jupyter.widget-view+json": {
       "model_id": "86b1da24736d430996ae966bbd61fd3d",
       "version_major": 2,
       "version_minor": 0
      },
      "text/plain": [
       "HBox(children=(IntProgress(value=0, max=603), HTML(value='')))"
      ]
     },
     "metadata": {},
     "output_type": "display_data"
    },
    {
     "name": "stdout",
     "output_type": "stream",
     "text": [
      "SELECTION FOR TYPE 1 ................\n",
      "Loading josh ...\n",
      "Loading kyle ...\n",
      "Loading M101 ...\n",
      "Loading M113 ...\n",
      "Loading kyleB ...\n",
      "Loading fc_oof_seed222 ...\n",
      "Drop Duplicates...\n",
      "Fill na...\n",
      "Get useful features...\n",
      "Label encoding...\n"
     ]
    },
    {
     "data": {
      "application/vnd.jupyter.widget-view+json": {
       "model_id": "2ddad7b895ab4652a9cd0e843916066d",
       "version_major": 2,
       "version_minor": 0
      },
      "text/plain": [
       "HBox(children=(IntProgress(value=0, max=161), HTML(value='')))"
      ]
     },
     "metadata": {},
     "output_type": "display_data"
    },
    {
     "name": "stdout",
     "output_type": "stream",
     "text": [
      "(709416, 629)\n",
      "\n",
      " Train fold 0 ......\n",
      "[0]\tvalidation_0-rmse:16.477\tvalidation_0-LMAE_XGB:2.44184\n",
      "Multiple eval metrics have been passed: 'validation_0-LMAE_XGB' will be used for early stopping.\n",
      "\n",
      "Will train until validation_0-LMAE_XGB hasn't improved in 30 rounds.\n",
      "[10]\tvalidation_0-rmse:5.80517\tvalidation_0-LMAE_XGB:1.39714\n",
      "[20]\tvalidation_0-rmse:2.13746\tvalidation_0-LMAE_XGB:0.398252\n",
      "[30]\tvalidation_0-rmse:0.992643\tvalidation_0-LMAE_XGB:-0.382042\n",
      "[40]\tvalidation_0-rmse:0.736126\tvalidation_0-LMAE_XGB:-0.732612\n",
      "[50]\tvalidation_0-rmse:0.697873\tvalidation_0-LMAE_XGB:-0.813685\n",
      "[60]\tvalidation_0-rmse:0.692984\tvalidation_0-LMAE_XGB:-0.825201\n",
      "[70]\tvalidation_0-rmse:0.692546\tvalidation_0-LMAE_XGB:-0.825727\n",
      "[80]\tvalidation_0-rmse:0.692632\tvalidation_0-LMAE_XGB:-0.82513\n",
      "[90]\tvalidation_0-rmse:0.692937\tvalidation_0-LMAE_XGB:-0.824435\n",
      "Stopping. Best iteration:\n",
      "[66]\tvalidation_0-rmse:0.692525\tvalidation_0-LMAE_XGB:-0.825808\n",
      "\n",
      "Base score: -0.825807591252091\n"
     ]
    },
    {
     "data": {
      "application/vnd.jupyter.widget-view+json": {
       "model_id": "7561128d5d574278b1819e0c92594999",
       "version_major": 2,
       "version_minor": 0
      },
      "text/plain": [
       "HBox(children=(IntProgress(value=0, max=629), HTML(value='')))"
      ]
     },
     "metadata": {},
     "output_type": "display_data"
    },
    {
     "name": "stdout",
     "output_type": "stream",
     "text": [
      "\n",
      " Train fold 1 ......\n",
      "[0]\tvalidation_0-rmse:16.4657\tvalidation_0-LMAE_XGB:2.44565\n",
      "Multiple eval metrics have been passed: 'validation_0-LMAE_XGB' will be used for early stopping.\n",
      "\n",
      "Will train until validation_0-LMAE_XGB hasn't improved in 30 rounds.\n",
      "[10]\tvalidation_0-rmse:5.79974\tvalidation_0-LMAE_XGB:1.40194\n",
      "[20]\tvalidation_0-rmse:2.1336\tvalidation_0-LMAE_XGB:0.40406\n",
      "[30]\tvalidation_0-rmse:0.989496\tvalidation_0-LMAE_XGB:-0.379993\n",
      "[40]\tvalidation_0-rmse:0.73282\tvalidation_0-LMAE_XGB:-0.737932\n",
      "[50]\tvalidation_0-rmse:0.69528\tvalidation_0-LMAE_XGB:-0.819878\n",
      "[60]\tvalidation_0-rmse:0.691103\tvalidation_0-LMAE_XGB:-0.831795\n",
      "[70]\tvalidation_0-rmse:0.691305\tvalidation_0-LMAE_XGB:-0.832224\n",
      "[80]\tvalidation_0-rmse:0.691796\tvalidation_0-LMAE_XGB:-0.831508\n",
      "[90]\tvalidation_0-rmse:0.692067\tvalidation_0-LMAE_XGB:-0.831022\n",
      "Stopping. Best iteration:\n",
      "[68]\tvalidation_0-rmse:0.691304\tvalidation_0-LMAE_XGB:-0.832284\n",
      "\n",
      "Base score: -0.8322839955627681\n"
     ]
    },
    {
     "data": {
      "application/vnd.jupyter.widget-view+json": {
       "model_id": "7a91cc62879e432e9761015362160789",
       "version_major": 2,
       "version_minor": 0
      },
      "text/plain": [
       "HBox(children=(IntProgress(value=0, max=629), HTML(value='')))"
      ]
     },
     "metadata": {},
     "output_type": "display_data"
    },
    {
     "name": "stdout",
     "output_type": "stream",
     "text": [
      "\n",
      " Train fold 2 ......\n",
      "[0]\tvalidation_0-rmse:16.434\tvalidation_0-LMAE_XGB:2.44941\n",
      "Multiple eval metrics have been passed: 'validation_0-LMAE_XGB' will be used for early stopping.\n",
      "\n",
      "Will train until validation_0-LMAE_XGB hasn't improved in 30 rounds.\n",
      "[10]\tvalidation_0-rmse:5.79406\tvalidation_0-LMAE_XGB:1.40626\n",
      "[20]\tvalidation_0-rmse:2.13865\tvalidation_0-LMAE_XGB:0.410919\n",
      "[30]\tvalidation_0-rmse:0.994693\tvalidation_0-LMAE_XGB:-0.370257\n",
      "[40]\tvalidation_0-rmse:0.735852\tvalidation_0-LMAE_XGB:-0.727403\n",
      "[50]\tvalidation_0-rmse:0.695955\tvalidation_0-LMAE_XGB:-0.813141\n",
      "[60]\tvalidation_0-rmse:0.690664\tvalidation_0-LMAE_XGB:-0.827944\n",
      "[70]\tvalidation_0-rmse:0.690245\tvalidation_0-LMAE_XGB:-0.829534\n",
      "[80]\tvalidation_0-rmse:0.690306\tvalidation_0-LMAE_XGB:-0.829316\n",
      "[90]\tvalidation_0-rmse:0.690625\tvalidation_0-LMAE_XGB:-0.828885\n",
      "[100]\tvalidation_0-rmse:0.691005\tvalidation_0-LMAE_XGB:-0.828276\n",
      "Stopping. Best iteration:\n",
      "[73]\tvalidation_0-rmse:0.6902\tvalidation_0-LMAE_XGB:-0.829547\n",
      "\n",
      "Base score: -0.8295466010980035\n"
     ]
    },
    {
     "data": {
      "application/vnd.jupyter.widget-view+json": {
       "model_id": "4fc9fc8721214f6d8b11abf5194f9cc3",
       "version_major": 2,
       "version_minor": 0
      },
      "text/plain": [
       "HBox(children=(IntProgress(value=0, max=629), HTML(value='')))"
      ]
     },
     "metadata": {},
     "output_type": "display_data"
    },
    {
     "name": "stdout",
     "output_type": "stream",
     "text": [
      "SELECTION FOR TYPE 3 ................\n",
      "Loading josh ...\n",
      "Loading kyle ...\n",
      "Loading M101 ...\n",
      "Loading M113 ...\n",
      "Loading kyleB ...\n",
      "Loading fc_oof_seed222 ...\n",
      "Drop Duplicates...\n",
      "Fill na...\n",
      "Get useful features...\n",
      "Label encoding...\n"
     ]
    },
    {
     "data": {
      "application/vnd.jupyter.widget-view+json": {
       "model_id": "9c36fb3f8a844b008d9b26ba25a7e4f2",
       "version_major": 2,
       "version_minor": 0
      },
      "text/plain": [
       "HBox(children=(IntProgress(value=0, max=165), HTML(value='')))"
      ]
     },
     "metadata": {},
     "output_type": "display_data"
    },
    {
     "name": "stdout",
     "output_type": "stream",
     "text": [
      "(1140674, 706)\n",
      "\n",
      " Train fold 0 ......\n",
      "[0]\tvalidation_0-rmse:4.07533\tvalidation_0-LMAE_XGB:0.895905\n",
      "Multiple eval metrics have been passed: 'validation_0-LMAE_XGB' will be used for early stopping.\n",
      "\n",
      "Will train until validation_0-LMAE_XGB hasn't improved in 30 rounds.\n",
      "[10]\tvalidation_0-rmse:1.47192\tvalidation_0-LMAE_XGB:-0.122728\n",
      "[20]\tvalidation_0-rmse:0.613812\tvalidation_0-LMAE_XGB:-1.0017\n",
      "[30]\tvalidation_0-rmse:0.38872\tvalidation_0-LMAE_XGB:-1.51598\n",
      "[40]\tvalidation_0-rmse:0.347166\tvalidation_0-LMAE_XGB:-1.67368\n",
      "[50]\tvalidation_0-rmse:0.340335\tvalidation_0-LMAE_XGB:-1.70207\n",
      "[60]\tvalidation_0-rmse:0.338707\tvalidation_0-LMAE_XGB:-1.70664\n",
      "[70]\tvalidation_0-rmse:0.338312\tvalidation_0-LMAE_XGB:-1.7066\n",
      "[80]\tvalidation_0-rmse:0.337949\tvalidation_0-LMAE_XGB:-1.7068\n",
      "[90]\tvalidation_0-rmse:0.337865\tvalidation_0-LMAE_XGB:-1.70642\n",
      "Stopping. Best iteration:\n",
      "[65]\tvalidation_0-rmse:0.338324\tvalidation_0-LMAE_XGB:-1.70706\n",
      "\n",
      "Base score: -1.707059650370058\n"
     ]
    },
    {
     "data": {
      "application/vnd.jupyter.widget-view+json": {
       "model_id": "0f93bb0c4d4b4a119b1a93c96704ae2a",
       "version_major": 2,
       "version_minor": 0
      },
      "text/plain": [
       "HBox(children=(IntProgress(value=0, max=706), HTML(value='')))"
      ]
     },
     "metadata": {},
     "output_type": "display_data"
    },
    {
     "name": "stdout",
     "output_type": "stream",
     "text": [
      "\n",
      " Train fold 1 ......\n",
      "[0]\tvalidation_0-rmse:4.063\tvalidation_0-LMAE_XGB:0.895782\n",
      "Multiple eval metrics have been passed: 'validation_0-LMAE_XGB' will be used for early stopping.\n",
      "\n",
      "Will train until validation_0-LMAE_XGB hasn't improved in 30 rounds.\n",
      "[10]\tvalidation_0-rmse:1.47579\tvalidation_0-LMAE_XGB:-0.1208\n",
      "[20]\tvalidation_0-rmse:0.625532\tvalidation_0-LMAE_XGB:-0.998578\n",
      "[30]\tvalidation_0-rmse:0.404182\tvalidation_0-LMAE_XGB:-1.51333\n",
      "[40]\tvalidation_0-rmse:0.363533\tvalidation_0-LMAE_XGB:-1.67173\n",
      "[50]\tvalidation_0-rmse:0.355678\tvalidation_0-LMAE_XGB:-1.70133\n",
      "[60]\tvalidation_0-rmse:0.353929\tvalidation_0-LMAE_XGB:-1.7063\n",
      "[70]\tvalidation_0-rmse:0.352569\tvalidation_0-LMAE_XGB:-1.70752\n",
      "[80]\tvalidation_0-rmse:0.351818\tvalidation_0-LMAE_XGB:-1.70808\n",
      "[90]\tvalidation_0-rmse:0.35135\tvalidation_0-LMAE_XGB:-1.7086\n",
      "[100]\tvalidation_0-rmse:0.351163\tvalidation_0-LMAE_XGB:-1.70821\n",
      "[110]\tvalidation_0-rmse:0.350833\tvalidation_0-LMAE_XGB:-1.70815\n",
      "[120]\tvalidation_0-rmse:0.350611\tvalidation_0-LMAE_XGB:-1.70831\n",
      "Stopping. Best iteration:\n",
      "[90]\tvalidation_0-rmse:0.35135\tvalidation_0-LMAE_XGB:-1.7086\n",
      "\n",
      "Base score: -1.7086030793027733\n"
     ]
    },
    {
     "data": {
      "application/vnd.jupyter.widget-view+json": {
       "model_id": "bcd915b1766d4bb8965ba7fd679008a2",
       "version_major": 2,
       "version_minor": 0
      },
      "text/plain": [
       "HBox(children=(IntProgress(value=0, max=706), HTML(value='')))"
      ]
     },
     "metadata": {},
     "output_type": "display_data"
    },
    {
     "name": "stdout",
     "output_type": "stream",
     "text": [
      "\n",
      " Train fold 2 ......\n",
      "[0]\tvalidation_0-rmse:4.08096\tvalidation_0-LMAE_XGB:0.897098\n",
      "Multiple eval metrics have been passed: 'validation_0-LMAE_XGB' will be used for early stopping.\n",
      "\n",
      "Will train until validation_0-LMAE_XGB hasn't improved in 30 rounds.\n",
      "[10]\tvalidation_0-rmse:1.47446\tvalidation_0-LMAE_XGB:-0.12047\n",
      "[20]\tvalidation_0-rmse:0.615007\tvalidation_0-LMAE_XGB:-0.999855\n",
      "[30]\tvalidation_0-rmse:0.390867\tvalidation_0-LMAE_XGB:-1.51585\n",
      "[40]\tvalidation_0-rmse:0.349961\tvalidation_0-LMAE_XGB:-1.67259\n",
      "[50]\tvalidation_0-rmse:0.343275\tvalidation_0-LMAE_XGB:-1.69947\n",
      "[60]\tvalidation_0-rmse:0.341706\tvalidation_0-LMAE_XGB:-1.70275\n",
      "[70]\tvalidation_0-rmse:0.341036\tvalidation_0-LMAE_XGB:-1.70257\n",
      "[80]\tvalidation_0-rmse:0.340605\tvalidation_0-LMAE_XGB:-1.70219\n",
      "[90]\tvalidation_0-rmse:0.340335\tvalidation_0-LMAE_XGB:-1.70231\n",
      "Stopping. Best iteration:\n",
      "[67]\tvalidation_0-rmse:0.341105\tvalidation_0-LMAE_XGB:-1.70298\n",
      "\n",
      "Base score: -1.7029802701676047\n"
     ]
    },
    {
     "data": {
      "application/vnd.jupyter.widget-view+json": {
       "model_id": "c4c3d3e9671e413c823f3a9bf90cd08f",
       "version_major": 2,
       "version_minor": 0
      },
      "text/plain": [
       "HBox(children=(IntProgress(value=0, max=706), HTML(value='')))"
      ]
     },
     "metadata": {},
     "output_type": "display_data"
    },
    {
     "name": "stdout",
     "output_type": "stream",
     "text": [
      "SELECTION FOR TYPE 6 ................\n",
      "Loading josh ...\n",
      "Loading kyle ...\n",
      "Loading M101 ...\n",
      "Loading M113 ...\n",
      "Loading kyleB ...\n",
      "Loading fc_oof_seed222 ...\n",
      "Drop Duplicates...\n",
      "Fill na...\n",
      "Get useful features...\n",
      "Label encoding...\n"
     ]
    },
    {
     "data": {
      "application/vnd.jupyter.widget-view+json": {
       "model_id": "3afed67187d94bf7983d3369c39d22a7",
       "version_major": 2,
       "version_minor": 0
      },
      "text/plain": [
       "HBox(children=(IntProgress(value=0, max=164), HTML(value='')))"
      ]
     },
     "metadata": {},
     "output_type": "display_data"
    },
    {
     "name": "stdout",
     "output_type": "stream",
     "text": [
      "(1510379, 530)\n",
      "\n",
      " Train fold 0 ......\n",
      "[0]\tvalidation_0-rmse:2.77594\tvalidation_0-LMAE_XGB:0.807277\n",
      "Multiple eval metrics have been passed: 'validation_0-LMAE_XGB' will be used for early stopping.\n",
      "\n",
      "Will train until validation_0-LMAE_XGB hasn't improved in 30 rounds.\n",
      "[10]\tvalidation_0-rmse:1.04051\tvalidation_0-LMAE_XGB:-0.211662\n",
      "[20]\tvalidation_0-rmse:0.510898\tvalidation_0-LMAE_XGB:-1.08765\n",
      "[30]\tvalidation_0-rmse:0.392555\tvalidation_0-LMAE_XGB:-1.57563\n",
      "[40]\tvalidation_0-rmse:0.371593\tvalidation_0-LMAE_XGB:-1.70083\n",
      "[50]\tvalidation_0-rmse:0.367593\tvalidation_0-LMAE_XGB:-1.71845\n",
      "[60]\tvalidation_0-rmse:0.36604\tvalidation_0-LMAE_XGB:-1.7201\n",
      "[70]\tvalidation_0-rmse:0.365545\tvalidation_0-LMAE_XGB:-1.71961\n",
      "[80]\tvalidation_0-rmse:0.364363\tvalidation_0-LMAE_XGB:-1.71939\n",
      "Stopping. Best iteration:\n",
      "[57]\tvalidation_0-rmse:0.366562\tvalidation_0-LMAE_XGB:-1.72016\n",
      "\n",
      "Base score: -1.7201563131294413\n"
     ]
    },
    {
     "data": {
      "application/vnd.jupyter.widget-view+json": {
       "model_id": "d702cd4e108e4f7888574db1163c8ee6",
       "version_major": 2,
       "version_minor": 0
      },
      "text/plain": [
       "HBox(children=(IntProgress(value=0, max=530), HTML(value='')))"
      ]
     },
     "metadata": {},
     "output_type": "display_data"
    },
    {
     "name": "stdout",
     "output_type": "stream",
     "text": [
      "\n",
      " Train fold 1 ......\n",
      "[0]\tvalidation_0-rmse:2.76239\tvalidation_0-LMAE_XGB:0.807088\n",
      "Multiple eval metrics have been passed: 'validation_0-LMAE_XGB' will be used for early stopping.\n",
      "\n",
      "Will train until validation_0-LMAE_XGB hasn't improved in 30 rounds.\n",
      "[10]\tvalidation_0-rmse:1.02518\tvalidation_0-LMAE_XGB:-0.211909\n",
      "[20]\tvalidation_0-rmse:0.486337\tvalidation_0-LMAE_XGB:-1.08828\n",
      "[30]\tvalidation_0-rmse:0.365316\tvalidation_0-LMAE_XGB:-1.57678\n",
      "[40]\tvalidation_0-rmse:0.345546\tvalidation_0-LMAE_XGB:-1.70364\n",
      "[50]\tvalidation_0-rmse:0.342696\tvalidation_0-LMAE_XGB:-1.72027\n",
      "[60]\tvalidation_0-rmse:0.341667\tvalidation_0-LMAE_XGB:-1.72125\n",
      "[70]\tvalidation_0-rmse:0.340942\tvalidation_0-LMAE_XGB:-1.72135\n",
      "[80]\tvalidation_0-rmse:0.340526\tvalidation_0-LMAE_XGB:-1.72093\n",
      "Stopping. Best iteration:\n",
      "[57]\tvalidation_0-rmse:0.341755\tvalidation_0-LMAE_XGB:-1.72146\n",
      "\n",
      "Base score: -1.7214606910809924\n"
     ]
    },
    {
     "data": {
      "application/vnd.jupyter.widget-view+json": {
       "model_id": "fc0dd44f73be4b6f9c637324e361c605",
       "version_major": 2,
       "version_minor": 0
      },
      "text/plain": [
       "HBox(children=(IntProgress(value=0, max=530), HTML(value='')))"
      ]
     },
     "metadata": {},
     "output_type": "display_data"
    },
    {
     "name": "stdout",
     "output_type": "stream",
     "text": [
      "\n",
      " Train fold 2 ......\n",
      "[0]\tvalidation_0-rmse:2.77248\tvalidation_0-LMAE_XGB:0.809411\n",
      "Multiple eval metrics have been passed: 'validation_0-LMAE_XGB' will be used for early stopping.\n",
      "\n",
      "Will train until validation_0-LMAE_XGB hasn't improved in 30 rounds.\n",
      "[10]\tvalidation_0-rmse:1.03342\tvalidation_0-LMAE_XGB:-0.210706\n",
      "[20]\tvalidation_0-rmse:0.501666\tvalidation_0-LMAE_XGB:-1.08784\n",
      "[30]\tvalidation_0-rmse:0.383717\tvalidation_0-LMAE_XGB:-1.57906\n",
      "[40]\tvalidation_0-rmse:0.363154\tvalidation_0-LMAE_XGB:-1.70616\n",
      "[50]\tvalidation_0-rmse:0.35897\tvalidation_0-LMAE_XGB:-1.72379\n",
      "[60]\tvalidation_0-rmse:0.357819\tvalidation_0-LMAE_XGB:-1.72525\n",
      "[70]\tvalidation_0-rmse:0.356993\tvalidation_0-LMAE_XGB:-1.72512\n",
      "[80]\tvalidation_0-rmse:0.356601\tvalidation_0-LMAE_XGB:-1.72475\n",
      "[90]\tvalidation_0-rmse:0.356891\tvalidation_0-LMAE_XGB:-1.72443\n",
      "Stopping. Best iteration:\n",
      "[60]\tvalidation_0-rmse:0.357819\tvalidation_0-LMAE_XGB:-1.72525\n",
      "\n",
      "Base score: -1.7252501225712178\n"
     ]
    },
    {
     "data": {
      "application/vnd.jupyter.widget-view+json": {
       "model_id": "fb92e4a56c8d42999c02f2b6c28bdeb9",
       "version_major": 2,
       "version_minor": 0
      },
      "text/plain": [
       "HBox(children=(IntProgress(value=0, max=530), HTML(value='')))"
      ]
     },
     "metadata": {},
     "output_type": "display_data"
    }
   ],
   "source": [
    "DATAPATH = 'I:/Molecule_Kaggle/features/'\n",
    "DATAPATH  = '/Users/voanhkha/Desktop/Molecule_Kaggle/features/'\n",
    "\n",
    "FEATURE_SETS = ['josh', 'kyle', 'M101', 'M113', 'kyleB', 'fc_oof_seed222']\n",
    "SET_EXT = ['parquet', 'csv', 'parquet', 'parquet', 'csv', 'csv']\n",
    "TYPES = [2,1,3,6]\n",
    "SPLIT_SEED = 1248\n",
    "\n",
    "CATEGORICAL_FEATURES = np.load('info_data/CATEGORICAL_FEATURES.npy')\n",
    "USELESS_FEATURES = [l for l in np.load('info_data/FAIL_FEATURES.npy')]\n",
    "REMOVED_FEATURES = ['id', 'y', 'molecule_id', 'atom1', 'atom2', 'bondtype']\n",
    "\n",
    "for bondtype in TYPES:\n",
    "    print('SELECTION FOR TYPE', bondtype, '................')\n",
    "    \n",
    "    for j, (fset, ext) in enumerate(zip(FEATURE_SETS, SET_EXT)):\n",
    "        print('Loading', fset, '...')\n",
    "        trainfile = fset+'/'+fset+'_train_'+str(bondtype)+'.'+ext\n",
    "        if ext == 'parquet': temp_df = pd.read_parquet(DATAPATH+trainfile).reset_index(drop=True)\n",
    "        elif ext == 'csv': temp_df = pd.read_csv(DATAPATH+trainfile).reset_index(drop=True)             \n",
    "        if j == 0: train_df = temp_df\n",
    "        else: train_df = pd.concat( [train_df, temp_df], axis=1 )\n",
    "    \n",
    "    ## Post process feature matrix\n",
    "    # Drop duplicate column names\n",
    "    print(\"Drop Duplicates...\")\n",
    "    train_df = train_df.loc[:,~train_df.columns.duplicated()]\n",
    "    print(\"Fill na...\")\n",
    "    train_df.fillna(0, inplace=True)\n",
    "    \n",
    "    # Detect useful and categorical features\n",
    "    print(\"Get useful features...\")\n",
    "    feature_names = pd.unique(train_df.columns.values)\n",
    "    useful_features = [ f for f in feature_names if f not in REMOVED_FEATURES ]\n",
    "    categorical_features = [ f for f in useful_features if f in CATEGORICAL_FEATURES[bondtype-1]]\n",
    "    \n",
    "    train_df = train_df[useful_features]\n",
    "\n",
    "    # Label-encode categorical features\n",
    "    print(\"Label encoding...\")\n",
    "    for col in tqdm(categorical_features):\n",
    "        LE = LabelEncoder().fit(train_df[col])\n",
    "        train_df[col] = LE.transform(train_df[col])\n",
    "\n",
    "    #------------------------------------\n",
    "    print(train_df.shape)\n",
    "    y = pd.read_csv('info_data/info_train_type_'+str(bondtype)+'.csv', usecols=['scalar_coupling_constant']).values\n",
    "\n",
    "    #----------------------------------#\n",
    "    kf = KFold(n_splits=5, shuffle=True, random_state=SPLIT_SEED)\n",
    "    avg_rank = np.zeros(train_df.shape[1])\n",
    "    for i, (fold_index_tr, fold_index_va) in enumerate(kf.split(train_df)):\n",
    "        if i>=3 : break\n",
    "        \n",
    "        print('\\n Train fold', i, '......')\n",
    "        # The below for LGB\n",
    "        #X_tr, X_va = train_df.iloc[fold_index_tr, :], train_df.iloc[fold_index_va, :]\n",
    "        # The below for XGB\n",
    "        X_tr, X_va = train_df.iloc[fold_index_tr, :].values, train_df.iloc[fold_index_va, :].values\n",
    "        y_tr, y_va = y[fold_index_tr].flatten(), y[fold_index_va].flatten()\n",
    "\n",
    "\n",
    "########## XGB #########\n",
    "        XGB_PARAMS = { \"learning_rate\":0.1, \"n_estimators\":2000, \"max_depth\":12, \n",
    "                       \"min_child_weight\": 40, \"subsample\":0.7, \"objective\":'reg:linear', \n",
    "                       \"nthread\":4, \"scale_pos_weight\":1, \"seed\":27, \"base_score\":np.mean(y_tr)}\n",
    "        mdl = xgb.XGBRegressor(**XGB_PARAMS) \n",
    "        mdl.fit(X_tr, y_tr,  verbose=10, early_stopping_rounds=30, \\\n",
    "                eval_set=[(X_va, y_va)], eval_metric=LMAE_XGB)\n",
    "\n",
    "        \n",
    "############## LGB #########\n",
    "#         LGB_PARAMS = {'num_leaves': 100, 'min_data_in_leaf': 50, 'objective':'huber',\n",
    "#                      'max_depth': 15, 'learning_rate': 0.1, \"boosting\": \"gbdt\",\n",
    "#                      \"feature_fraction\": 1, \"bagging_fraction\": 0.7,\n",
    "#                      \"random_state\": 240691, \"num_threads\": 4 }\n",
    "#         mdl = lgb.LGBMRegressor(**LGB_PARAMS, n_estimators = 4000, n_jobs = -1) \n",
    "#         mdl.fit(X_tr, y_tr, eval_set=[(X_va, y_va)], eval_metric=LMAE_LGB,\n",
    "#                 verbose=100, early_stopping_rounds=50,\n",
    "#                 feature_name=useful_features, categorical_feature=categorical_features)\n",
    "        \n",
    "        ########\n",
    "########### CatBoost #########\n",
    "#         mdl = catboost.CatBoostRegressor(loss_function='RMSE', n_estimators = 5000, eval_metric=\"MAE\") \n",
    "#         mdl.fit(X_tr, y_tr, eval_set=[(X_va, y_va)], verbose_eval=50, early_stopping_rounds=50)\n",
    "################################\n",
    "        \n",
    "        results = permutation_importance_XGB(mdl, X_va,y_va, train_df.columns.values)\n",
    "        ranking = np.argsort(np.argsort(results.permute_score.values))\n",
    "        avg_rank += ranking\n",
    "\n",
    "    final_results = results.copy()\n",
    "    final_results['permute_score'] = avg_rank\n",
    "    final_results = final_results.sort_values('permute_score', ascending=False).reset_index(drop=True)\n",
    "    final_results.to_csv('feature_ranking_xgb_type_'+str(bondtype)+'.csv', index=None)"
   ]
  },
  {
   "cell_type": "code",
   "execution_count": null,
   "metadata": {},
   "outputs": [],
   "source": []
  },
  {
   "cell_type": "code",
   "execution_count": null,
   "metadata": {},
   "outputs": [],
   "source": []
  },
  {
   "cell_type": "markdown",
   "metadata": {},
   "source": [
    "### Try different number of top features"
   ]
  },
  {
   "cell_type": "code",
   "execution_count": 25,
   "metadata": {},
   "outputs": [
    {
     "name": "stdout",
     "output_type": "stream",
     "text": [
      "WORKING ON TYPE 2\n",
      "Loading josh ...\n",
      "Loading kyle ...\n",
      "Loading M101 ...\n",
      "Loading M113 ...\n",
      "Loading kyleB ...\n",
      "Loading fc_oof_seed222 ...\n",
      "Drop Duplicates...\n",
      "Fill na...\n",
      "Get useful features...\n",
      "Label encoding...\n"
     ]
    },
    {
     "data": {
      "application/vnd.jupyter.widget-view+json": {
       "model_id": "d4463bcdd76b44b5864fd515fdeeb38d",
       "version_major": 2,
       "version_minor": 0
      },
      "text/plain": [
       "HBox(children=(IntProgress(value=0, max=170), HTML(value='')))"
      ]
     },
     "metadata": {},
     "output_type": "display_data"
    },
    {
     "name": "stdout",
     "output_type": "stream",
     "text": [
      "\n",
      "\n",
      "\n",
      "Nb features: 60\n",
      "(43363, 60)\n",
      "Training until validation scores don't improve for 50 rounds.\n",
      "[500]\tvalid_0's huber: 0.0542751\tvalid_0's LMAE_LGB: -1.48885\n",
      "Early stopping, best iteration is:\n",
      "[743]\tvalid_0's huber: 0.0531988\tvalid_0's LMAE_LGB: -1.49364\n",
      "\n",
      "\n",
      "\n",
      "Nb features: 70\n",
      "(43363, 70)\n",
      "Training until validation scores don't improve for 50 rounds.\n",
      "[500]\tvalid_0's huber: 0.0541235\tvalid_0's LMAE_LGB: -1.49004\n",
      "Early stopping, best iteration is:\n",
      "[713]\tvalid_0's huber: 0.0529959\tvalid_0's LMAE_LGB: -1.49715\n",
      "\n",
      "\n",
      "\n",
      "Nb features: 80\n",
      "(43363, 80)\n",
      "Training until validation scores don't improve for 50 rounds.\n",
      "[500]\tvalid_0's huber: 0.0537437\tvalid_0's LMAE_LGB: -1.49573\n",
      "Early stopping, best iteration is:\n",
      "[894]\tvalid_0's huber: 0.0525891\tvalid_0's LMAE_LGB: -1.50123\n",
      "\n",
      "\n",
      "\n",
      "Nb features: 90\n",
      "(43363, 90)\n",
      "Training until validation scores don't improve for 50 rounds.\n",
      "[500]\tvalid_0's huber: 0.0532199\tvalid_0's LMAE_LGB: -1.49682\n",
      "[1000]\tvalid_0's huber: 0.0519514\tvalid_0's LMAE_LGB: -1.50465\n",
      "Early stopping, best iteration is:\n",
      "[1079]\tvalid_0's huber: 0.0519034\tvalid_0's LMAE_LGB: -1.50573\n",
      "\n",
      "\n",
      "\n",
      "Nb features: 100\n",
      "(43363, 100)\n",
      "Training until validation scores don't improve for 50 rounds.\n",
      "[500]\tvalid_0's huber: 0.0538595\tvalid_0's LMAE_LGB: -1.49119\n",
      "Early stopping, best iteration is:\n",
      "[734]\tvalid_0's huber: 0.0527672\tvalid_0's LMAE_LGB: -1.4964\n",
      "\n",
      "\n",
      "\n",
      "Nb features: 120\n",
      "(43363, 120)\n",
      "Training until validation scores don't improve for 50 rounds.\n",
      "[500]\tvalid_0's huber: 0.0531551\tvalid_0's LMAE_LGB: -1.5018\n",
      "Early stopping, best iteration is:\n",
      "[840]\tvalid_0's huber: 0.0520244\tvalid_0's LMAE_LGB: -1.51005\n",
      "\n",
      "\n",
      "\n",
      "Nb features: 140\n",
      "(43363, 140)\n",
      "Training until validation scores don't improve for 50 rounds.\n",
      "[500]\tvalid_0's huber: 0.053663\tvalid_0's LMAE_LGB: -1.49804\n",
      "Early stopping, best iteration is:\n",
      "[784]\tvalid_0's huber: 0.0523459\tvalid_0's LMAE_LGB: -1.50505\n",
      "\n",
      "\n",
      "\n",
      "Nb features: 160\n",
      "(43363, 160)\n",
      "Training until validation scores don't improve for 50 rounds.\n",
      "[500]\tvalid_0's huber: 0.0532691\tvalid_0's LMAE_LGB: -1.50105\n",
      "Early stopping, best iteration is:\n",
      "[645]\tvalid_0's huber: 0.0522368\tvalid_0's LMAE_LGB: -1.5078\n",
      "\n",
      "\n",
      "\n",
      "Nb features: 180\n",
      "(43363, 180)\n",
      "Training until validation scores don't improve for 50 rounds.\n",
      "[500]\tvalid_0's huber: 0.053295\tvalid_0's LMAE_LGB: -1.50005\n",
      "[1000]\tvalid_0's huber: 0.0518534\tvalid_0's LMAE_LGB: -1.50862\n",
      "Early stopping, best iteration is:\n",
      "[1026]\tvalid_0's huber: 0.0518293\tvalid_0's LMAE_LGB: -1.50884\n"
     ]
    }
   ],
   "source": [
    "RANGE_NB_FEATURES = [60, 70, 80, 90, 100, 120, 140, 160, 180]\n",
    "\n",
    "for bondtype in [2]:\n",
    "    print('WORKING ON TYPE', bondtype)\n",
    "    \n",
    "    for j, (fset, ext) in enumerate(zip(FEATURE_SETS, SET_EXT)):\n",
    "        print('Loading', fset, '...')\n",
    "        trainfile = fset+'/'+fset+'_train_'+str(bondtype)+'.'+ext\n",
    "        #testfile = fset+'/'+fset+'_test_'+str(bondtype)+'.'+ext\n",
    "        if ext == 'parquet':\n",
    "            temp_df = pd.read_parquet(DATAPATH+trainfile).reset_index(drop=True)\n",
    "            #temp_df_test = pd.read_parquet(DATAPATH+testfile).reset_index(drop=True)\n",
    "        elif ext == 'csv':\n",
    "            temp_df = pd.read_csv(DATAPATH+trainfile).reset_index(drop=True) \n",
    "            #temp_df_test = pd.read_csv(DATAPATH+testfile).reset_index(drop=True)\n",
    "            \n",
    "        if j == 0: \n",
    "            train_df = temp_df\n",
    "            #test_df = temp_df_test\n",
    "        else: \n",
    "            train_df = pd.concat( [train_df, temp_df], axis=1 )\n",
    "            #test_df = pd.concat( [test_df, temp_df_test], axis=1 )\n",
    "    \n",
    "    ## Post process feature matrix\n",
    "    \n",
    "    # Drop duplicate column names\n",
    "    print(\"Drop Duplicates...\")\n",
    "    train_df = train_df.loc[:,~train_df.columns.duplicated()]\n",
    "    #test_df = test_df.loc[:,~test_df.columns.duplicated()]\n",
    "    print(\"Fill na...\")\n",
    "    train_df.fillna(0, inplace=True)\n",
    "    #test_df.fillna(0, inplace=True)\n",
    "    \n",
    "\n",
    "    # Detect useful and categorical features\n",
    "    print(\"Get useful features...\")\n",
    "    feature_names = pd.unique(train_df.columns.values)\n",
    "    useful_features = [ f for f in feature_names if f not in REMOVED_FEATURES ]\n",
    "    categorical_features = [ f for f in useful_features if f in CATEGORICAL_FEATURES[bondtype-1]]\n",
    "    \n",
    "    train_df = train_df[useful_features]\n",
    "    #test_df = test_df[useful_features]\n",
    "\n",
    "    # Label-encode categorical features\n",
    "    print(\"Label encoding...\")\n",
    "    for col in tqdm(categorical_features):\n",
    "        LE = LabelEncoder().fit(train_df[col])\n",
    "        train_df[col] = LE.transform(train_df[col])\n",
    "        #test_df[col] = LE.transform(test_df[col])\n",
    "        \n",
    "    y = pd.read_csv('info_data/info_train_type_'+str(bondtype)+'.csv', usecols=['scalar_coupling_constant']).values.flatten()\n",
    "    \n",
    "    LGB_PARAMS = {'num_leaves': 100,\n",
    "             'min_data_in_leaf': 50, \n",
    "             'objective':'huber',\n",
    "             'max_depth': 15,\n",
    "             'learning_rate': 0.1,\n",
    "             \"boosting\": \"gbdt\",\n",
    "             \"feature_fraction\": 1,\n",
    "             \"bagging_fraction\": 0.7,\n",
    "             \"random_state\": 240691,\n",
    "              \"num_threads\": 4\n",
    "             }\n",
    "    \n",
    "    results = []\n",
    "    ranking = pd.read_csv('feature_ranking_lgbstack_type_'+str(bondtype)+'.csv')\n",
    "    for g in RANGE_NB_FEATURES:\n",
    "        print('\\n\\n')\n",
    "        print('Nb features:', g)\n",
    "        good_features = ranking.head(g).feature.values\n",
    "        train_df_2 = train_df[good_features]\n",
    "        print(train_df_2.shape)\n",
    "        \n",
    "        X_tr, X_va, y_tr, y_va = train_test_split(train_df_2, y, test_size=0.2, random_state=42)\n",
    "        \n",
    "        lgbmodel_2 = lgb.LGBMRegressor(**LGB_PARAMS, n_estimators = 10000, n_jobs = -1) \n",
    "        lgbmodel_2.fit(X_tr, y_tr, eval_set=[(X_va, y_va)], eval_metric=LMAE_LGB,\n",
    "                  verbose=500, early_stopping_rounds=50)\n",
    "\n",
    "        score = lgbmodel_2.evals_result_['valid_0']['LMAE_LGB'][-1]\n",
    "        results.append(score)\n",
    "    \n",
    "    result_df = pd.DataFrame(data={'nb_features': RANGE_NB_FEATURES, 'score': results})\n",
    "    result_df.to_csv('permute_result_lgbstack_type_'+str(bondtype)+'.csv', index=None)"
   ]
  },
  {
   "cell_type": "code",
   "execution_count": null,
   "metadata": {},
   "outputs": [],
   "source": []
  }
 ],
 "metadata": {
  "kernelspec": {
   "display_name": "Python 3",
   "language": "python",
   "name": "python3"
  },
  "language_info": {
   "codemirror_mode": {
    "name": "ipython",
    "version": 3
   },
   "file_extension": ".py",
   "mimetype": "text/x-python",
   "name": "python",
   "nbconvert_exporter": "python",
   "pygments_lexer": "ipython3",
   "version": "3.6.8"
  }
 },
 "nbformat": 4,
 "nbformat_minor": 2
}
